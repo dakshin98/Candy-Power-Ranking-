{
 "cells": [
  {
   "cell_type": "markdown",
   "id": "a7b40ea1",
   "metadata": {},
   "source": [
    "**Importing Requied LIbraries and Data Processing**"
   ]
  },
  {
   "cell_type": "code",
   "execution_count": 1,
   "id": "54314f45",
   "metadata": {},
   "outputs": [],
   "source": [
    "import numpy as np \n",
    "import matplotlib.pyplot as plt \n",
    "import pandas as pd \n",
    "import seaborn as sns "
   ]
  },
  {
   "cell_type": "code",
   "execution_count": 2,
   "id": "184507ea",
   "metadata": {},
   "outputs": [],
   "source": [
    "cp=pd.read_csv(r'C:\\Users\\DAKSHIN\\Desktop\\PGP Analytics\\Kaggle refernce\\CANDY POWER RANK CLASSIFICATION\\candy-data.CSV')"
   ]
  },
  {
   "cell_type": "code",
   "execution_count": 3,
   "id": "83a6d8d5",
   "metadata": {},
   "outputs": [
    {
     "name": "stdout",
     "output_type": "stream",
     "text": [
      "<class 'pandas.core.frame.DataFrame'>\n",
      "RangeIndex: 85 entries, 0 to 84\n",
      "Data columns (total 13 columns):\n",
      " #   Column            Non-Null Count  Dtype  \n",
      "---  ------            --------------  -----  \n",
      " 0   competitorname    85 non-null     object \n",
      " 1   chocolate         85 non-null     int64  \n",
      " 2   fruity            85 non-null     int64  \n",
      " 3   caramel           85 non-null     int64  \n",
      " 4   peanutyalmondy    85 non-null     int64  \n",
      " 5   nougat            85 non-null     int64  \n",
      " 6   crispedricewafer  85 non-null     int64  \n",
      " 7   hard              85 non-null     int64  \n",
      " 8   bar               85 non-null     int64  \n",
      " 9   pluribus          85 non-null     int64  \n",
      " 10  sugarpercent      85 non-null     float64\n",
      " 11  pricepercent      85 non-null     float64\n",
      " 12  winpercent        85 non-null     float64\n",
      "dtypes: float64(3), int64(9), object(1)\n",
      "memory usage: 8.8+ KB\n"
     ]
    }
   ],
   "source": [
    "cp.info()"
   ]
  },
  {
   "cell_type": "code",
   "execution_count": 4,
   "id": "7df5a922",
   "metadata": {},
   "outputs": [
    {
     "data": {
      "text/html": [
       "<div>\n",
       "<style scoped>\n",
       "    .dataframe tbody tr th:only-of-type {\n",
       "        vertical-align: middle;\n",
       "    }\n",
       "\n",
       "    .dataframe tbody tr th {\n",
       "        vertical-align: top;\n",
       "    }\n",
       "\n",
       "    .dataframe thead th {\n",
       "        text-align: right;\n",
       "    }\n",
       "</style>\n",
       "<table border=\"1\" class=\"dataframe\">\n",
       "  <thead>\n",
       "    <tr style=\"text-align: right;\">\n",
       "      <th></th>\n",
       "      <th>chocolate</th>\n",
       "      <th>fruity</th>\n",
       "      <th>caramel</th>\n",
       "      <th>peanutyalmondy</th>\n",
       "      <th>nougat</th>\n",
       "      <th>crispedricewafer</th>\n",
       "      <th>hard</th>\n",
       "      <th>bar</th>\n",
       "      <th>pluribus</th>\n",
       "      <th>sugarpercent</th>\n",
       "      <th>pricepercent</th>\n",
       "      <th>winpercent</th>\n",
       "    </tr>\n",
       "  </thead>\n",
       "  <tbody>\n",
       "    <tr>\n",
       "      <th>count</th>\n",
       "      <td>85.000000</td>\n",
       "      <td>85.000000</td>\n",
       "      <td>85.000000</td>\n",
       "      <td>85.000000</td>\n",
       "      <td>85.000000</td>\n",
       "      <td>85.000000</td>\n",
       "      <td>85.000000</td>\n",
       "      <td>85.000000</td>\n",
       "      <td>85.000000</td>\n",
       "      <td>85.000000</td>\n",
       "      <td>85.000000</td>\n",
       "      <td>85.000000</td>\n",
       "    </tr>\n",
       "    <tr>\n",
       "      <th>mean</th>\n",
       "      <td>0.435294</td>\n",
       "      <td>0.447059</td>\n",
       "      <td>0.164706</td>\n",
       "      <td>0.164706</td>\n",
       "      <td>0.082353</td>\n",
       "      <td>0.082353</td>\n",
       "      <td>0.176471</td>\n",
       "      <td>0.247059</td>\n",
       "      <td>0.517647</td>\n",
       "      <td>0.478647</td>\n",
       "      <td>0.468882</td>\n",
       "      <td>50.316764</td>\n",
       "    </tr>\n",
       "    <tr>\n",
       "      <th>std</th>\n",
       "      <td>0.498738</td>\n",
       "      <td>0.500140</td>\n",
       "      <td>0.373116</td>\n",
       "      <td>0.373116</td>\n",
       "      <td>0.276533</td>\n",
       "      <td>0.276533</td>\n",
       "      <td>0.383482</td>\n",
       "      <td>0.433861</td>\n",
       "      <td>0.502654</td>\n",
       "      <td>0.282778</td>\n",
       "      <td>0.285740</td>\n",
       "      <td>14.714357</td>\n",
       "    </tr>\n",
       "    <tr>\n",
       "      <th>min</th>\n",
       "      <td>0.000000</td>\n",
       "      <td>0.000000</td>\n",
       "      <td>0.000000</td>\n",
       "      <td>0.000000</td>\n",
       "      <td>0.000000</td>\n",
       "      <td>0.000000</td>\n",
       "      <td>0.000000</td>\n",
       "      <td>0.000000</td>\n",
       "      <td>0.000000</td>\n",
       "      <td>0.011000</td>\n",
       "      <td>0.011000</td>\n",
       "      <td>22.445341</td>\n",
       "    </tr>\n",
       "    <tr>\n",
       "      <th>25%</th>\n",
       "      <td>0.000000</td>\n",
       "      <td>0.000000</td>\n",
       "      <td>0.000000</td>\n",
       "      <td>0.000000</td>\n",
       "      <td>0.000000</td>\n",
       "      <td>0.000000</td>\n",
       "      <td>0.000000</td>\n",
       "      <td>0.000000</td>\n",
       "      <td>0.000000</td>\n",
       "      <td>0.220000</td>\n",
       "      <td>0.255000</td>\n",
       "      <td>39.141056</td>\n",
       "    </tr>\n",
       "    <tr>\n",
       "      <th>50%</th>\n",
       "      <td>0.000000</td>\n",
       "      <td>0.000000</td>\n",
       "      <td>0.000000</td>\n",
       "      <td>0.000000</td>\n",
       "      <td>0.000000</td>\n",
       "      <td>0.000000</td>\n",
       "      <td>0.000000</td>\n",
       "      <td>0.000000</td>\n",
       "      <td>1.000000</td>\n",
       "      <td>0.465000</td>\n",
       "      <td>0.465000</td>\n",
       "      <td>47.829754</td>\n",
       "    </tr>\n",
       "    <tr>\n",
       "      <th>75%</th>\n",
       "      <td>1.000000</td>\n",
       "      <td>1.000000</td>\n",
       "      <td>0.000000</td>\n",
       "      <td>0.000000</td>\n",
       "      <td>0.000000</td>\n",
       "      <td>0.000000</td>\n",
       "      <td>0.000000</td>\n",
       "      <td>0.000000</td>\n",
       "      <td>1.000000</td>\n",
       "      <td>0.732000</td>\n",
       "      <td>0.651000</td>\n",
       "      <td>59.863998</td>\n",
       "    </tr>\n",
       "    <tr>\n",
       "      <th>max</th>\n",
       "      <td>1.000000</td>\n",
       "      <td>1.000000</td>\n",
       "      <td>1.000000</td>\n",
       "      <td>1.000000</td>\n",
       "      <td>1.000000</td>\n",
       "      <td>1.000000</td>\n",
       "      <td>1.000000</td>\n",
       "      <td>1.000000</td>\n",
       "      <td>1.000000</td>\n",
       "      <td>0.988000</td>\n",
       "      <td>0.976000</td>\n",
       "      <td>84.180290</td>\n",
       "    </tr>\n",
       "  </tbody>\n",
       "</table>\n",
       "</div>"
      ],
      "text/plain": [
       "       chocolate     fruity    caramel  peanutyalmondy     nougat  \\\n",
       "count  85.000000  85.000000  85.000000       85.000000  85.000000   \n",
       "mean    0.435294   0.447059   0.164706        0.164706   0.082353   \n",
       "std     0.498738   0.500140   0.373116        0.373116   0.276533   \n",
       "min     0.000000   0.000000   0.000000        0.000000   0.000000   \n",
       "25%     0.000000   0.000000   0.000000        0.000000   0.000000   \n",
       "50%     0.000000   0.000000   0.000000        0.000000   0.000000   \n",
       "75%     1.000000   1.000000   0.000000        0.000000   0.000000   \n",
       "max     1.000000   1.000000   1.000000        1.000000   1.000000   \n",
       "\n",
       "       crispedricewafer       hard        bar   pluribus  sugarpercent  \\\n",
       "count         85.000000  85.000000  85.000000  85.000000     85.000000   \n",
       "mean           0.082353   0.176471   0.247059   0.517647      0.478647   \n",
       "std            0.276533   0.383482   0.433861   0.502654      0.282778   \n",
       "min            0.000000   0.000000   0.000000   0.000000      0.011000   \n",
       "25%            0.000000   0.000000   0.000000   0.000000      0.220000   \n",
       "50%            0.000000   0.000000   0.000000   1.000000      0.465000   \n",
       "75%            0.000000   0.000000   0.000000   1.000000      0.732000   \n",
       "max            1.000000   1.000000   1.000000   1.000000      0.988000   \n",
       "\n",
       "       pricepercent  winpercent  \n",
       "count     85.000000   85.000000  \n",
       "mean       0.468882   50.316764  \n",
       "std        0.285740   14.714357  \n",
       "min        0.011000   22.445341  \n",
       "25%        0.255000   39.141056  \n",
       "50%        0.465000   47.829754  \n",
       "75%        0.651000   59.863998  \n",
       "max        0.976000   84.180290  "
      ]
     },
     "execution_count": 4,
     "metadata": {},
     "output_type": "execute_result"
    }
   ],
   "source": [
    "cp.describe()"
   ]
  },
  {
   "cell_type": "code",
   "execution_count": 5,
   "id": "9d132a6d",
   "metadata": {},
   "outputs": [
    {
     "data": {
      "text/plain": [
       "0                      100 Grand\n",
       "1                   3 Musketeers\n",
       "2                       One dime\n",
       "3                    One quarter\n",
       "4                      Air Heads\n",
       "                 ...            \n",
       "80                     Twizzlers\n",
       "81                      Warheads\n",
       "82          WelchÕs Fruit Snacks\n",
       "83    WertherÕs Original Caramel\n",
       "84                      Whoppers\n",
       "Name: competitorname, Length: 85, dtype: object"
      ]
     },
     "execution_count": 5,
     "metadata": {},
     "output_type": "execute_result"
    }
   ],
   "source": [
    "cp.competitorname"
   ]
  },
  {
   "cell_type": "markdown",
   "id": "b1bbaca9",
   "metadata": {},
   "source": [
    "**Data Visualization**"
   ]
  },
  {
   "cell_type": "code",
   "execution_count": 8,
   "id": "936f0fef",
   "metadata": {},
   "outputs": [],
   "source": [
    "numerical=cp.select_dtypes(include=np.number)"
   ]
  },
  {
   "cell_type": "code",
   "execution_count": 11,
   "id": "d2580c22",
   "metadata": {},
   "outputs": [
    {
     "data": {
      "image/png": "[encoded data removed]",
      "text/plain": [
       "<Figure size 432x288 with 1 Axes>"
      ]
     },
     "metadata": {
      "needs_background": "light"
     },
     "output_type": "display_data"
    },
    {
     "data": {
      "image/png": "[encoded data removed]",
      "text/plain": [
       "<Figure size 432x288 with 1 Axes>"
      ]
     },
     "metadata": {
      "needs_background": "light"
     },
     "output_type": "display_data"
    },
    {
     "data": {
      "image/png": "[encoded data removed]",
      "text/plain": [
       "<Figure size 432x288 with 1 Axes>"
      ]
     },
     "metadata": {
      "needs_background": "light"
     },
     "output_type": "display_data"
    },
    {
     "data": {
      "image/png": "[encoded data removed]",
      "text/plain": [
       "<Figure size 432x288 with 1 Axes>"
      ]
     },
     "metadata": {
      "needs_background": "light"
     },
     "output_type": "display_data"
    },
    {
     "data": {
      "image/png": "[encoded data removed]",
      "text/plain": [
       "<Figure size 432x288 with 1 Axes>"
      ]
     },
     "metadata": {
      "needs_background": "light"
     },
     "output_type": "display_data"
    },
    {
     "data": {
      "image/png": "[encoded data removed]",
      "text/plain": [
       "<Figure size 432x288 with 1 Axes>"
      ]
     },
     "metadata": {
      "needs_background": "light"
     },
     "output_type": "display_data"
    },
    {
     "data": {
      "image/png": "[encoded data removed]",
      "text/plain": [
       "<Figure size 432x288 with 1 Axes>"
      ]
     },
     "metadata": {
      "needs_background": "light"
     },
     "output_type": "display_data"
    },
    {
     "data": {
      "image/png": "[encoded data removed]",
      "text/plain": [
       "<Figure size 432x288 with 1 Axes>"
      ]
     },
     "metadata": {
      "needs_background": "light"
     },
     "output_type": "display_data"
    },
    {
     "data": {
      "image/png": "[encoded data removed]",
      "text/plain": [
       "<Figure size 432x288 with 1 Axes>"
      ]
     },
     "metadata": {
      "needs_background": "light"
     },
     "output_type": "display_data"
    },
    {
     "data": {
      "image/png": "[encoded data removed]",
      "text/plain": [
       "<Figure size 432x288 with 1 Axes>"
      ]
     },
     "metadata": {
      "needs_background": "light"
     },
     "output_type": "display_data"
    },
    {
     "data": {
      "image/png": "[encoded data removed]",
      "text/plain": [
       "<Figure size 432x288 with 1 Axes>"
      ]
     },
     "metadata": {
      "needs_background": "light"
     },
     "output_type": "display_data"
    },
    {
     "data": {
      "image/png": "[encoded data removed]",
      "text/plain": [
       "<Figure size 432x288 with 1 Axes>"
      ]
     },
     "metadata": {
      "needs_background": "light"
     },
     "output_type": "display_data"
    }
   ],
   "source": [
    "for x in numerical.columns:\n",
    "    plt.figure(x)\n",
    "    plt.title(x)\n",
    "    plt.hist(x,data=cp)"
   ]
  },
  {
   "cell_type": "markdown",
   "id": "a8bf65d9",
   "metadata": {},
   "source": [
    "**Model Building**"
   ]
  },
  {
   "cell_type": "code",
   "execution_count": 25,
   "id": "df9d671d",
   "metadata": {},
   "outputs": [],
   "source": [
    "x=cp.iloc[:,[2,3,4,5,6,7,8,9,10,11,12]]\n",
    "y=cp['chocolate']"
   ]
  },
  {
   "cell_type": "code",
   "execution_count": 26,
   "id": "20f59b5f",
   "metadata": {},
   "outputs": [],
   "source": [
    "from sklearn.model_selection import train_test_split\n",
    "from sklearn.linear_model import LogisticRegression \n",
    "from sklearn.tree import DecisionTreeClassifier \n",
    "from sklearn.ensemble import RandomForestClassifier"
   ]
  },
  {
   "cell_type": "code",
   "execution_count": 27,
   "id": "00b83e57",
   "metadata": {},
   "outputs": [],
   "source": [
    "xtrain,xtest,ytrain,ytest=train_test_split (x,y,test_size=0.3,random_state=121)"
   ]
  },
  {
   "cell_type": "code",
   "execution_count": 28,
   "id": "036ea81b",
   "metadata": {},
   "outputs": [],
   "source": [
    "lr=LogisticRegression()\n",
    "lr_model=lr.fit(xtrain,ytrain)\n",
    "ypred=lr_model.predict(xtest)"
   ]
  },
  {
   "cell_type": "code",
   "execution_count": 29,
   "id": "0afd6e56",
   "metadata": {},
   "outputs": [
    {
     "name": "stdout",
     "output_type": "stream",
     "text": [
      "[0 0 1 0 1 1 0 1 1 0 0 0 0 0 1 0 0 0 1 0 1 1 1 0 0 0]\n"
     ]
    }
   ],
   "source": [
    "print(ypred)"
   ]
  },
  {
   "cell_type": "code",
   "execution_count": 31,
   "id": "0875a12d",
   "metadata": {},
   "outputs": [
    {
     "name": "stdout",
     "output_type": "stream",
     "text": [
      "              precision    recall  f1-score   support\n",
      "\n",
      "           0       0.81      1.00      0.90        13\n",
      "           1       1.00      0.77      0.87        13\n",
      "\n",
      "    accuracy                           0.88        26\n",
      "   macro avg       0.91      0.88      0.88        26\n",
      "weighted avg       0.91      0.88      0.88        26\n",
      "\n"
     ]
    }
   ],
   "source": [
    "from sklearn.metrics import classification_report,confusion_matrix\n",
    "print(classification_report(ytest,ypred))"
   ]
  },
  {
   "cell_type": "code",
   "execution_count": 32,
   "id": "8101faaa",
   "metadata": {},
   "outputs": [],
   "source": [
    "dtc=DecisionTreeClassifier()\n",
    "dtc_model=dtc.fit(xtrain,ytrain)\n",
    "ypred2=dtc_model.predict(xtest)"
   ]
  },
  {
   "cell_type": "code",
   "execution_count": 33,
   "id": "63ae9702",
   "metadata": {},
   "outputs": [
    {
     "data": {
      "text/plain": [
       "array([0, 0, 1, 0, 1, 1, 0, 1, 1, 0, 0, 0, 0, 0, 1, 1, 0, 0, 1, 0, 1, 1,\n",
       "       1, 0, 0, 0], dtype=int64)"
      ]
     },
     "execution_count": 33,
     "metadata": {},
     "output_type": "execute_result"
    }
   ],
   "source": [
    "ypred2"
   ]
  },
  {
   "cell_type": "markdown",
   "id": "9af79d4d",
   "metadata": {},
   "source": [
    "**Classification_report and Confusion Matrix**"
   ]
  },
  {
   "cell_type": "code",
   "execution_count": 35,
   "id": "bfbb8afd",
   "metadata": {
    "scrolled": true
   },
   "outputs": [
    {
     "name": "stdout",
     "output_type": "stream",
     "text": [
      "              precision    recall  f1-score   support\n",
      "\n",
      "           0       0.80      0.92      0.86        13\n",
      "           1       0.91      0.77      0.83        13\n",
      "\n",
      "    accuracy                           0.85        26\n",
      "   macro avg       0.85      0.85      0.85        26\n",
      "weighted avg       0.85      0.85      0.85        26\n",
      "\n"
     ]
    }
   ],
   "source": [
    "print(classification_report(ytest,ypred2))"
   ]
  },
  {
   "cell_type": "code",
   "execution_count": 39,
   "id": "3c2dd144",
   "metadata": {},
   "outputs": [],
   "source": [
    "rbf=RandomForestClassifier()\n",
    "rbf_model=rbf.fit(xtrain,ytrain)\n",
    "ypred3=rbf_model.predict(xtest)"
   ]
  },
  {
   "cell_type": "code",
   "execution_count": 41,
   "id": "963a34e6",
   "metadata": {},
   "outputs": [
    {
     "name": "stdout",
     "output_type": "stream",
     "text": [
      "              precision    recall  f1-score   support\n",
      "\n",
      "           0       0.81      1.00      0.90        13\n",
      "           1       1.00      0.77      0.87        13\n",
      "\n",
      "    accuracy                           0.88        26\n",
      "   macro avg       0.91      0.88      0.88        26\n",
      "weighted avg       0.91      0.88      0.88        26\n",
      "\n"
     ]
    }
   ],
   "source": [
    "print(classification_report(ytest,ypred3))"
   ]
  },
  {
   "cell_type": "code",
   "execution_count": 42,
   "id": "159683b7",
   "metadata": {},
   "outputs": [
    {
     "name": "stdout",
     "output_type": "stream",
     "text": [
      "[[13  0]\n",
      " [ 3 10]]\n"
     ]
    }
   ],
   "source": [
    "print(confusion_matrix(ytest,ypred3))"
   ]
  },
  {
   "cell_type": "code",
   "execution_count": null,
   "id": "797adab8",
   "metadata": {},
   "outputs": [],
   "source": []
  }
 ],
 "metadata": {
  "kernelspec": {
   "display_name": "Python 3",
   "language": "python",
   "name": "python3"
  },
  "language_info": {
   "codemirror_mode": {
    "name": "ipython",
    "version": 3
   },
   "file_extension": ".py",
   "mimetype": "text/x-python",
   "name": "python",
   "nbconvert_exporter": "python",
   "pygments_lexer": "ipython3",
   "version": "3.8.8"
  }
 },
 "nbformat": 4,
 "nbformat_minor": 5
}
